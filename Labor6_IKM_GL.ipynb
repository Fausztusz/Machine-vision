{
  "nbformat": 4,
  "nbformat_minor": 0,
  "metadata": {
    "colab": {
      "name": "Labor6_IKM_GL.ipynb",
      "provenance": [],
      "collapsed_sections": [],
      "include_colab_link": true
    },
    "kernelspec": {
      "name": "python3",
      "display_name": "Python 3"
    },
    "accelerator": "GPU"
  },
  "cells": [
    {
      "cell_type": "markdown",
      "metadata": {
        "id": "view-in-github",
        "colab_type": "text"
      },
      "source": [
        "<a href=\"https://colab.research.google.com/github/Fausztusz/Machine-vision/blob/master/Labor6_IKM_GL.ipynb\" target=\"_parent\"><img src=\"https://colab.research.google.com/assets/colab-badge.svg\" alt=\"Open In Colab\"/></a>"
      ]
    },
    {
      "cell_type": "markdown",
      "metadata": {
        "id": "etxxqNjBvbYl",
        "colab_type": "text"
      },
      "source": [
        "# PyTorch\n",
        "\n",
        "A mostani labor témája a PyTorch függvénykönyvtár használata lesz. Ehhez először néhány fontos könyvtár installálására lesz szükség.\n",
        "\n",
        "## GPU és CUDA ellenőrzése\n",
        "\n",
        "A !nvcc --version parancs segítségével ellenőrizhető a CUDA verziója"
      ]
    },
    {
      "cell_type": "code",
      "metadata": {
        "id": "76--MCcVvY6b",
        "colab_type": "code",
        "outputId": "a118a46d-7917-4e77-fc7c-15f744027936",
        "colab": {
          "base_uri": "https://localhost:8080/",
          "height": 90
        }
      },
      "source": [
        "!nvcc --version"
      ],
      "execution_count": 0,
      "outputs": [
        {
          "output_type": "stream",
          "text": [
            "nvcc: NVIDIA (R) Cuda compiler driver\n",
            "Copyright (c) 2005-2019 NVIDIA Corporation\n",
            "Built on Sun_Jul_28_19:07:16_PDT_2019\n",
            "Cuda compilation tools, release 10.1, V10.1.243\n"
          ],
          "name": "stdout"
        }
      ]
    },
    {
      "cell_type": "markdown",
      "metadata": {
        "id": "668tQrDqAoyU",
        "colab_type": "text"
      },
      "source": [
        "## Fontos könyvtárak installálása\n",
        "\n",
        "Torch, torchvision, progressbar, lightning"
      ]
    },
    {
      "cell_type": "code",
      "metadata": {
        "id": "5pQucnmFAxOK",
        "colab_type": "code",
        "outputId": "dd18d031-05b1-45cc-a586-e650aea2dfec",
        "colab": {
          "base_uri": "https://localhost:8080/",
          "height": 582
        }
      },
      "source": [
        "!pip3 install torch torchvision pytorch-lightning"
      ],
      "execution_count": 0,
      "outputs": [
        {
          "output_type": "stream",
          "text": [
            "Requirement already satisfied: torch in /usr/local/lib/python3.6/dist-packages (1.5.0+cu101)\n",
            "Requirement already satisfied: torchvision in /usr/local/lib/python3.6/dist-packages (0.6.0+cu101)\n",
            "Requirement already satisfied: pytorch-lightning in /usr/local/lib/python3.6/dist-packages (0.7.5)\n",
            "Requirement already satisfied: numpy in /usr/local/lib/python3.6/dist-packages (from torch) (1.18.3)\n",
            "Requirement already satisfied: future in /usr/local/lib/python3.6/dist-packages (from torch) (0.16.0)\n",
            "Requirement already satisfied: pillow>=4.1.1 in /usr/local/lib/python3.6/dist-packages (from torchvision) (7.0.0)\n",
            "Requirement already satisfied: tensorboard>=1.14 in /usr/local/lib/python3.6/dist-packages (from pytorch-lightning) (2.2.1)\n",
            "Requirement already satisfied: tqdm>=4.41.0 in /usr/local/lib/python3.6/dist-packages (from pytorch-lightning) (4.46.0)\n",
            "Requirement already satisfied: markdown>=2.6.8 in /usr/local/lib/python3.6/dist-packages (from tensorboard>=1.14->pytorch-lightning) (3.2.1)\n",
            "Requirement already satisfied: tensorboard-plugin-wit>=1.6.0 in /usr/local/lib/python3.6/dist-packages (from tensorboard>=1.14->pytorch-lightning) (1.6.0.post3)\n",
            "Requirement already satisfied: wheel>=0.26; python_version >= \"3\" in /usr/local/lib/python3.6/dist-packages (from tensorboard>=1.14->pytorch-lightning) (0.34.2)\n",
            "Requirement already satisfied: absl-py>=0.4 in /usr/local/lib/python3.6/dist-packages (from tensorboard>=1.14->pytorch-lightning) (0.9.0)\n",
            "Requirement already satisfied: six>=1.10.0 in /usr/local/lib/python3.6/dist-packages (from tensorboard>=1.14->pytorch-lightning) (1.12.0)\n",
            "Requirement already satisfied: protobuf>=3.6.0 in /usr/local/lib/python3.6/dist-packages (from tensorboard>=1.14->pytorch-lightning) (3.10.0)\n",
            "Requirement already satisfied: google-auth-oauthlib<0.5,>=0.4.1 in /usr/local/lib/python3.6/dist-packages (from tensorboard>=1.14->pytorch-lightning) (0.4.1)\n",
            "Requirement already satisfied: requests<3,>=2.21.0 in /usr/local/lib/python3.6/dist-packages (from tensorboard>=1.14->pytorch-lightning) (2.23.0)\n",
            "Requirement already satisfied: google-auth<2,>=1.6.3 in /usr/local/lib/python3.6/dist-packages (from tensorboard>=1.14->pytorch-lightning) (1.7.2)\n",
            "Requirement already satisfied: grpcio>=1.24.3 in /usr/local/lib/python3.6/dist-packages (from tensorboard>=1.14->pytorch-lightning) (1.28.1)\n",
            "Requirement already satisfied: werkzeug>=0.11.15 in /usr/local/lib/python3.6/dist-packages (from tensorboard>=1.14->pytorch-lightning) (1.0.1)\n",
            "Requirement already satisfied: setuptools>=41.0.0 in /usr/local/lib/python3.6/dist-packages (from tensorboard>=1.14->pytorch-lightning) (46.1.3)\n",
            "Requirement already satisfied: requests-oauthlib>=0.7.0 in /usr/local/lib/python3.6/dist-packages (from google-auth-oauthlib<0.5,>=0.4.1->tensorboard>=1.14->pytorch-lightning) (1.3.0)\n",
            "Requirement already satisfied: certifi>=2017.4.17 in /usr/local/lib/python3.6/dist-packages (from requests<3,>=2.21.0->tensorboard>=1.14->pytorch-lightning) (2020.4.5.1)\n",
            "Requirement already satisfied: idna<3,>=2.5 in /usr/local/lib/python3.6/dist-packages (from requests<3,>=2.21.0->tensorboard>=1.14->pytorch-lightning) (2.9)\n",
            "Requirement already satisfied: urllib3!=1.25.0,!=1.25.1,<1.26,>=1.21.1 in /usr/local/lib/python3.6/dist-packages (from requests<3,>=2.21.0->tensorboard>=1.14->pytorch-lightning) (1.24.3)\n",
            "Requirement already satisfied: chardet<4,>=3.0.2 in /usr/local/lib/python3.6/dist-packages (from requests<3,>=2.21.0->tensorboard>=1.14->pytorch-lightning) (3.0.4)\n",
            "Requirement already satisfied: cachetools<3.2,>=2.0.0 in /usr/local/lib/python3.6/dist-packages (from google-auth<2,>=1.6.3->tensorboard>=1.14->pytorch-lightning) (3.1.1)\n",
            "Requirement already satisfied: rsa<4.1,>=3.1.4 in /usr/local/lib/python3.6/dist-packages (from google-auth<2,>=1.6.3->tensorboard>=1.14->pytorch-lightning) (4.0)\n",
            "Requirement already satisfied: pyasn1-modules>=0.2.1 in /usr/local/lib/python3.6/dist-packages (from google-auth<2,>=1.6.3->tensorboard>=1.14->pytorch-lightning) (0.2.8)\n",
            "Requirement already satisfied: oauthlib>=3.0.0 in /usr/local/lib/python3.6/dist-packages (from requests-oauthlib>=0.7.0->google-auth-oauthlib<0.5,>=0.4.1->tensorboard>=1.14->pytorch-lightning) (3.1.0)\n",
            "Requirement already satisfied: pyasn1>=0.1.3 in /usr/local/lib/python3.6/dist-packages (from rsa<4.1,>=3.1.4->google-auth<2,>=1.6.3->tensorboard>=1.14->pytorch-lightning) (0.4.8)\n"
          ],
          "name": "stdout"
        }
      ]
    },
    {
      "cell_type": "markdown",
      "metadata": {
        "id": "obfmfJQvA5h4",
        "colab_type": "text"
      },
      "source": [
        "## PyTorch és CUDA ellenőrzése"
      ]
    },
    {
      "cell_type": "code",
      "metadata": {
        "id": "FKndwOLlA9yu",
        "colab_type": "code",
        "outputId": "20090a4d-42f0-4b46-dd6f-02aaba49f3ba",
        "colab": {
          "base_uri": "https://localhost:8080/",
          "height": 35
        }
      },
      "source": [
        "import torch\n",
        "print(torch.cuda.is_available())"
      ],
      "execution_count": 0,
      "outputs": [
        {
          "output_type": "stream",
          "text": [
            "True\n"
          ],
          "name": "stdout"
        }
      ]
    },
    {
      "cell_type": "markdown",
      "metadata": {
        "id": "m1-kZ27PBWBu",
        "colab_type": "text"
      },
      "source": [
        "## Számítási gráf numpy segítségével\n",
        "\n"
      ]
    },
    {
      "cell_type": "code",
      "metadata": {
        "id": "nAtQ25k2Bdpq",
        "colab_type": "code",
        "outputId": "f516bbe1-aae3-4fb5-fadf-9a3fa6601501",
        "colab": {
          "base_uri": "https://localhost:8080/",
          "height": 53
        }
      },
      "source": [
        "import numpy as np\n",
        "\n",
        "np.random.seed(42)\n",
        "\n",
        "a = np.random.randn(2)\n",
        "b = np.random.randn(2)\n",
        "c = np.random.randn(2)\n",
        "\n",
        "d = 2*a+0.5*b\n",
        "e = np.sum(c*d)\n",
        "\n",
        "print(e)\n",
        "\n",
        "grad_e = np.ones(2)\n",
        "grad_c = grad_e*d\n",
        "grad_d = grad_e*c\n",
        "grad_a = grad_d*2\n",
        "grad_b = grad_d*0.5\n",
        "\n",
        "print(grad_a,grad_b,grad_c)"
      ],
      "execution_count": 0,
      "outputs": [
        {
          "output_type": "stream",
          "text": [
            "-0.42199704138300664\n",
            "[-0.46830675 -0.46827391] [-0.11707669 -0.11706848] [1.31727258 0.48498633]\n"
          ],
          "name": "stdout"
        }
      ]
    },
    {
      "cell_type": "markdown",
      "metadata": {
        "id": "tyeHyMEmCkdT",
        "colab_type": "text"
      },
      "source": [
        "## Számítási gráf PyTorch segítségével"
      ]
    },
    {
      "cell_type": "code",
      "metadata": {
        "id": "aOVSPMjrCnrS",
        "colab_type": "code",
        "outputId": "65de8f84-cf58-443b-b92e-854d2f1e077c",
        "colab": {
          "base_uri": "https://localhost:8080/",
          "height": 53
        }
      },
      "source": [
        "import torch\n",
        "\n",
        "np.random.seed(42)\n",
        "\n",
        "a = torch.Tensor(np.random.randn(2)).requires_grad_(True)\n",
        "b = torch.Tensor(np.random.randn(2)).requires_grad_(True)\n",
        "c = torch.Tensor(np.random.randn(2)).requires_grad_(True)\n",
        "\n",
        "d = 2*a+0.5*b\n",
        "e = (c*d).sum()\n",
        "\n",
        "print(e.item())\n",
        "e.backward()\n",
        "print(a.grad, b.grad, c.grad)"
      ],
      "execution_count": 0,
      "outputs": [
        {
          "output_type": "stream",
          "text": [
            "-0.4219970405101776\n",
            "tensor([-0.4683, -0.4683]) tensor([-0.1171, -0.1171]) tensor([1.3173, 0.4850])\n"
          ],
          "name": "stdout"
        }
      ]
    },
    {
      "cell_type": "markdown",
      "metadata": {
        "id": "icBWI28vEMnG",
        "colab_type": "text"
      },
      "source": [
        "## Lineáris modell definiálása"
      ]
    },
    {
      "cell_type": "code",
      "metadata": {
        "id": "ezLFvS5-EaG7",
        "colab_type": "code",
        "outputId": "75f2d52d-0458-4acb-8494-160ff1f9d69b",
        "colab": {
          "base_uri": "https://localhost:8080/",
          "height": 35
        }
      },
      "source": [
        "from torch import nn\n",
        "\n",
        "class Linear(nn.Module):\n",
        "  def __init__(self,Nin,Nout):\n",
        "    super(Linear,self).__init__()\n",
        "    self.W = torch.randn(Nout,Nin).requires_grad_(True)\n",
        "  def forward(self,x):\n",
        "    return torch.addmv(torch.zeros(2),self.W,x)\n",
        "  \n",
        "myNeuron = Linear(128,2)\n",
        "myInput = torch.randn(128)\n",
        "y = myNeuron(myInput)\n",
        "print(y)"
      ],
      "execution_count": 0,
      "outputs": [
        {
          "output_type": "stream",
          "text": [
            "tensor([-20.7465,  -1.6387], grad_fn=<AddmvBackward>)\n"
          ],
          "name": "stdout"
        }
      ]
    },
    {
      "cell_type": "markdown",
      "metadata": {
        "id": "W_hjFpBRKhr0",
        "colab_type": "text"
      },
      "source": [
        "## Lineáris modell tanítása"
      ]
    },
    {
      "cell_type": "code",
      "metadata": {
        "id": "uH2JbTDcKkvd",
        "colab_type": "code",
        "outputId": "23cb4cc1-f598-434c-bcc7-a02c2e309fe2",
        "colab": {
          "base_uri": "https://localhost:8080/",
          "height": 320
        }
      },
      "source": [
        "%matplotlib inline\n",
        "\n",
        "import matplotlib\n",
        "import matplotlib.pyplot as plt\n",
        "\n",
        "torch.manual_seed(42)\n",
        "\n",
        "N = 128\n",
        "myNeuron = Linear(N,2)\n",
        "trainX = torch.randn(N,128)\n",
        "trainY = torch.randn(N,2)\n",
        "lr = 1e-3\n",
        "\n",
        "losses = []\n",
        "for i in range(20):\n",
        "  running_loss = 0\n",
        "  for x,y in zip(trainX,trainY):\n",
        "\n",
        "    y_pred = myNeuron(x)\n",
        "    loss = ((y-y_pred)**2).sum() + 10*myNeuron.W.norm(2)\n",
        "    loss.backward()\n",
        "    with torch.no_grad():\n",
        "      myNeuron.W -= lr*myNeuron.W.grad\n",
        "      myNeuron.W.grad.zero_()\n",
        "    running_loss += loss.item()\n",
        "  losses.append(running_loss/N)\n",
        "print(myNeuron.W.norm(2))\n",
        "print(losses[-1])\n",
        "plt.plot(losses)"
      ],
      "execution_count": 0,
      "outputs": [
        {
          "output_type": "stream",
          "text": [
            "tensor(0.0729, grad_fn=<NormBackward0>)\n",
            "2.490078639006242\n"
          ],
          "name": "stdout"
        },
        {
          "output_type": "execute_result",
          "data": {
            "text/plain": [
              "[<matplotlib.lines.Line2D at 0x7f92507c75c0>]"
            ]
          },
          "metadata": {
            "tags": []
          },
          "execution_count": 9
        },
        {
          "output_type": "display_data",
          "data": {
            "image/png": "[encoded data removed]",
            "text/plain": [
              "<Figure size 432x288 with 1 Axes>"
            ]
          },
          "metadata": {
            "tags": [],
            "needs_background": "light"
          }
        }
      ]
    },
    {
      "cell_type": "markdown",
      "metadata": {
        "id": "PPFDRxTCHucl",
        "colab_type": "text"
      },
      "source": [
        "## Beépített függvények használata"
      ]
    },
    {
      "cell_type": "code",
      "metadata": {
        "id": "EqRJR4xLHtn_",
        "colab_type": "code",
        "outputId": "42b8a40b-8283-4196-efef-af6c52b9f198",
        "colab": {
          "base_uri": "https://localhost:8080/",
          "height": 35
        }
      },
      "source": [
        "class myMLP(nn.Module):\n",
        "  def __init__(self,Nin,Nout,Nhid):\n",
        "    super(myMLP,self).__init__()\n",
        "    self.L1 = nn.Linear(Nin,Nhid)\n",
        "    self.L2 = nn.Linear(Nhid,Nout)\n",
        "  \n",
        "  def forward(self,x):\n",
        "    return self.L2(torch.sigmoid(self.L1(x)))\n",
        "  \n",
        "myNet = myMLP(128,2,256)\n",
        "y = myNet(myInput)\n",
        "print(y)"
      ],
      "execution_count": 0,
      "outputs": [
        {
          "output_type": "stream",
          "text": [
            "tensor([ 0.1688, -0.0459], grad_fn=<AddBackward0>)\n"
          ],
          "name": "stdout"
        }
      ]
    },
    {
      "cell_type": "markdown",
      "metadata": {
        "id": "Td3nntqTQ_kK",
        "colab_type": "text"
      },
      "source": [
        "## Tanítás beépített függvényekkel"
      ]
    },
    {
      "cell_type": "code",
      "metadata": {
        "id": "xOpVRTbbREb9",
        "colab_type": "code",
        "outputId": "f2213930-d27a-409f-c1e6-cef1d36104ad",
        "colab": {
          "base_uri": "https://localhost:8080/",
          "height": 301
        }
      },
      "source": [
        "from torch.utils.data import TensorDataset, DataLoader\n",
        "import torch.optim as optim\n",
        "\n",
        "torch.manual_seed(42)\n",
        "\n",
        "N = 256\n",
        "\n",
        "dataset = TensorDataset(trainX,trainY)\n",
        "dataloader = DataLoader(dataset,batch_size=4)\n",
        "\n",
        "myNet = myMLP(128,2,256)\n",
        "\n",
        "optimizer = optim.SGD(myNet.parameters(),lr=1e-2,weight_decay=1e-5)\n",
        "\n",
        "criterion = nn.MSELoss()\n",
        "\n",
        "losses = []\n",
        "epochNum = 1000\n",
        "bestLoss = 10000\n",
        "\n",
        "for i in range(epochNum):\n",
        "  running_loss = 0\n",
        "  \n",
        "  for x,y in dataloader:\n",
        "    optimizer.zero_grad()\n",
        "    y_pred = myNet(x)\n",
        "    loss = criterion(y_pred,y)\n",
        "    loss.backward()\n",
        "    optimizer.step()\n",
        "    running_loss += loss.item()\n",
        "  running_loss /= len(dataloader)\n",
        "  losses.append(running_loss)\n",
        "  if running_loss < bestLoss:\n",
        "    bestLoss = running_loss\n",
        "    torch.save(myNet.state_dict(),\"myNet.pth\")\n",
        "print(bestLoss)\n",
        "plt.plot(losses)"
      ],
      "execution_count": 0,
      "outputs": [
        {
          "output_type": "stream",
          "text": [
            "9.373290140501922e-06\n"
          ],
          "name": "stdout"
        },
        {
          "output_type": "execute_result",
          "data": {
            "text/plain": [
              "[<matplotlib.lines.Line2D at 0x7f9250256d68>]"
            ]
          },
          "metadata": {
            "tags": []
          },
          "execution_count": 11
        },
        {
          "output_type": "display_data",
          "data": {
            "image/png": "[encoded data removed]",
            "text/plain": [
              "<Figure size 432x288 with 1 Axes>"
            ]
          },
          "metadata": {
            "tags": [],
            "needs_background": "light"
          }
        }
      ]
    },
    {
      "cell_type": "markdown",
      "metadata": {
        "id": "SCqchuQyWHMl",
        "colab_type": "text"
      },
      "source": [
        "## Tanítás CUDA segítségével"
      ]
    },
    {
      "cell_type": "code",
      "metadata": {
        "id": "T5imI0lgWNtp",
        "colab_type": "code",
        "outputId": "d4d0a82c-35c1-4b9f-c7be-dcc27caee894",
        "colab": {
          "base_uri": "https://localhost:8080/",
          "height": 301
        }
      },
      "source": [
        "torch.manual_seed(42)\n",
        "torch.cuda.manual_seed(42)\n",
        "torch.backends.cudnn.deterministic = True\n",
        "torch.backends.cudnn.benchmark = False\n",
        "\n",
        "dataloader = DataLoader(dataset,batch_size=8)\n",
        "\n",
        "myNet = myMLP(128,2,256).cuda()\n",
        "\n",
        "optimizer = optim.SGD(myNet.parameters(),lr=1e-2,weight_decay=1e-5)\n",
        "\n",
        "criterion = nn.MSELoss().cuda()\n",
        "\n",
        "losses = []\n",
        "epochNum = 1000\n",
        "bestLoss = 10000\n",
        "\n",
        "for i in range(epochNum):\n",
        "  running_loss = 0\n",
        "  \n",
        "  for x,y in dataloader:\n",
        "    x = x.cuda()\n",
        "    y = y.cuda()\n",
        "    optimizer.zero_grad()\n",
        "    y_pred = myNet(x)\n",
        "    loss = criterion(y_pred,y)\n",
        "    loss.backward()\n",
        "    optimizer.step()\n",
        "    running_loss += loss.cpu().item()\n",
        "  running_loss /= len(dataloader)\n",
        "  losses.append(running_loss)\n",
        "  if running_loss < bestLoss:\n",
        "    bestLoss = running_loss\n",
        "    torch.save(myNet.state_dict(),\"myNet.pth\")\n",
        "print(bestLoss)\n",
        "plt.plot(losses)"
      ],
      "execution_count": 0,
      "outputs": [
        {
          "output_type": "stream",
          "text": [
            "0.0011991395185759757\n"
          ],
          "name": "stdout"
        },
        {
          "output_type": "execute_result",
          "data": {
            "text/plain": [
              "[<matplotlib.lines.Line2D at 0x7f923f7bf860>]"
            ]
          },
          "metadata": {
            "tags": []
          },
          "execution_count": 12
        },
        {
          "output_type": "display_data",
          "data": {
            "image/png": "[encoded data removed]",
            "text/plain": [
              "<Figure size 432x288 with 1 Axes>"
            ]
          },
          "metadata": {
            "tags": [],
            "needs_background": "light"
          }
        }
      ]
    },
    {
      "cell_type": "markdown",
      "metadata": {
        "id": "ZoEd-S17Yj0v",
        "colab_type": "text"
      },
      "source": [
        "## Validáció"
      ]
    },
    {
      "cell_type": "code",
      "metadata": {
        "id": "BtkNdA1oYm8f",
        "colab_type": "code",
        "outputId": "bfb9f54f-bc46-4cdb-e784-9d2a8dc6c1ae",
        "colab": {
          "base_uri": "https://localhost:8080/",
          "height": 283
        }
      },
      "source": [
        "torch.manual_seed(42)\n",
        "torch.cuda.manual_seed(42)\n",
        "torch.backends.cudnn.deterministic = True\n",
        "torch.backends.cudnn.benchmark = False\n",
        "\n",
        "valN = 64\n",
        "valx = torch.randn(valN,128)\n",
        "valy = torch.randn(valN,2)\n",
        "\n",
        "valdataset = TensorDataset(valx,valy)\n",
        "valdataloader = DataLoader(valdataset,batch_size=64)\n",
        "\n",
        "myNet = myMLP(128,2,256).cuda()\n",
        "\n",
        "optimizer = optim.SGD(myNet.parameters(),lr=1e-2,weight_decay=1e-3)\n",
        "\n",
        "criterion = nn.MSELoss().cuda()\n",
        "\n",
        "losses = []\n",
        "vallosses = []\n",
        "epochNum = 1000\n",
        "bestLoss = 10000\n",
        "\n",
        "for i in range(epochNum):\n",
        "  # Train\n",
        "  running_loss = 0\n",
        "  \n",
        "  for x,y in dataloader:\n",
        "    x = x.cuda()\n",
        "    y = y.cuda()\n",
        "    optimizer.zero_grad()\n",
        "    y_pred = myNet(x)\n",
        "    loss = criterion(y_pred,y)\n",
        "    loss.backward()\n",
        "    optimizer.step()\n",
        "    running_loss += loss.cpu().item()\n",
        "  running_loss /= len(dataloader)\n",
        "  losses.append(running_loss)\n",
        "  \n",
        "  #Val\n",
        "  running_loss = 0\n",
        "  \n",
        "  for x,y in valdataloader:\n",
        "    x = x.cuda()\n",
        "    y = y.cuda()\n",
        "    y_pred = myNet(x)\n",
        "    loss = criterion(y_pred,y)\n",
        "    running_loss += loss.cpu().item()\n",
        "  running_loss /= len(valdataloader)\n",
        "  vallosses.append(running_loss)\n",
        "  if running_loss < bestLoss:\n",
        "    bestLoss = running_loss\n",
        "    torch.save(myNet.state_dict(),\"myNet.pth\")\n",
        "    \n",
        "print(bestLoss)\n",
        "plt.plot(losses)\n",
        "plt.plot(vallosses)\n",
        "plt.show()\n",
        "  "
      ],
      "execution_count": 0,
      "outputs": [
        {
          "output_type": "stream",
          "text": [
            "1.1933369636535645\n"
          ],
          "name": "stdout"
        },
        {
          "output_type": "display_data",
          "data": {
            "image/png": "[encoded data removed]",
            "text/plain": [
              "<Figure size 432x288 with 1 Axes>"
            ]
          },
          "metadata": {
            "tags": [],
            "needs_background": "light"
          }
        }
      ]
    },
    {
      "cell_type": "markdown",
      "metadata": {
        "id": "RVlB0bPfZ_O1",
        "colab_type": "text"
      },
      "source": [
        "## Értelmes adat tanítása"
      ]
    },
    {
      "cell_type": "code",
      "metadata": {
        "id": "V07X2ioIaA9S",
        "colab_type": "code",
        "colab": {}
      },
      "source": [
        ""
      ],
      "execution_count": 0,
      "outputs": []
    }
  ]
}